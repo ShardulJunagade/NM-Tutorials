{
 "cells": [
  {
   "cell_type": "markdown",
   "metadata": {},
   "source": [
    "<div style=\"text-align: center;\">\n",
    "\n",
    "# MA 203: Numerical Methods\n",
    "## Assignment-1\n",
    "\n",
    "Shardul Junagade <br>\n",
    "23110297\n",
    "\n",
    "</div>"
   ]
  },
  {
   "cell_type": "code",
   "execution_count": 1,
   "metadata": {},
   "outputs": [],
   "source": [
    "# importing libraries\n",
    "import numpy as np\n",
    "import matplotlib.pyplot as plt"
   ]
  },
  {
   "cell_type": "markdown",
   "metadata": {},
   "source": [
    "## **Question 1**\n",
    "\n",
    "1. (2 points) Using the convergence result for fixed-point iteration (refer to the lecture), show that $g(x) = \\frac{x^2 - 1}{3}$ satisfies the hypothesis of the theorem and hence has a unique fixed point on the interval $[-1, 1]$. Also, find the fixed point $x$ such that $x = g(x)$."
   ]
  },
  {
   "cell_type": "markdown",
   "metadata": {},
   "source": [
    "### **Solution:**\n",
    "\n",
    "![Solution 1](./images/assignment1/1.jpg)\n",
    "\n",
    "![Solution 1](./images/assignment1/2.jpg)\n",
    "\n",
    "![Solution 1](./images/assignment1/3.jpg)"
   ]
  },
  {
   "cell_type": "code",
   "execution_count": 2,
   "metadata": {},
   "outputs": [
    {
     "name": "stdout",
     "output_type": "stream",
     "text": [
      "Does g(x) map [-1, 1] into itself?: True\n",
      "Max |g'(x)| on [-1, 1]: 0.6666666666666666\n"
     ]
    },
    {
     "data": {
      "image/png": "[encoded data removed]",
      "text/plain": [
       "<Figure size 600x500 with 1 Axes>"
      ]
     },
     "metadata": {},
     "output_type": "display_data"
    }
   ],
   "source": [
    "# Define the function g(x)\n",
    "def g(x):\n",
    "    return (x**2 - 1)/3\n",
    "\n",
    "# Derivative of g(x) to verify contraction\n",
    "def g_prime(x):\n",
    "    return (2*x)/3\n",
    "\n",
    "# Check if g maps [-1, 1] into itself\n",
    "x_vals = np.linspace(-1, 1, 1000)\n",
    "g_vals = g(x_vals)\n",
    "g_prime_vals = g_prime(x_vals)\n",
    "g_interval = np.all((g_vals >= -1) & (g_vals <= 1))\n",
    "print(\"Does g(x) map [-1, 1] into itself?:\", g_interval)\n",
    "\n",
    "# Check maximum |g'(x)| on [-1, 1]\n",
    "max_derivative = np.max(np.abs(g_prime(x_vals)))\n",
    "print(\"Max |g'(x)| on [-1, 1]:\", max_derivative)\n",
    "\n",
    "# plot g(x) and g'(x)\n",
    "plt.figure(figsize=(6, 5))\n",
    "plt.plot(x_vals, g_vals, label='g(x)', color='blue')\n",
    "plt.plot(x_vals, g_prime_vals, label=\"g'(x)\", color='red')\n",
    "plt.axhline(0, color='black', lw=0.7, ls='--')\n",
    "plt.axvline(0, color='black', lw=0.7, ls='--')\n",
    "plt.title('Plot of g(x) and g\\'(x)')\n",
    "plt.xlabel('x')\n",
    "plt.ylabel('y')\n",
    "plt.legend()\n",
    "plt.grid()\n",
    "plt.xlim(-1.5, 1.5)\n",
    "plt.ylim(-1.5, 1.5)\n",
    "plt.show()"
   ]
  },
  {
   "cell_type": "code",
   "execution_count": 3,
   "metadata": {},
   "outputs": [
    {
     "name": "stdout",
     "output_type": "stream",
     "text": [
      "Iteration 0: x = -1\n",
      "Iteration 1: x = 0.0000000000\n",
      "Iteration 2: x = -0.3333333333\n",
      "Iteration 3: x = -0.2962962963\n",
      "Iteration 4: x = -0.3040695016\n",
      "Iteration 5: x = -0.3025139127\n",
      "Iteration 6: x = -0.3028284442\n",
      "Iteration 7: x = -0.3027649778\n",
      "Iteration 8: x = -0.3027777894\n",
      "Iteration 9: x = -0.3027752034\n",
      "Iteration 10: x = -0.3027757254\n",
      "Iteration 11: x = -0.3027756200\n",
      "Iteration 12: x = -0.3027756413\n",
      "Iteration 13: x = -0.3027756370\n",
      "Iteration 14: x = -0.3027756379\n",
      "Converged after 14 iterations to -0.3027756379\n",
      "\n",
      "Fixed point found: -0.3027756379\n"
     ]
    }
   ],
   "source": [
    "# Use fixed-point iteration to find fixed point\n",
    "def fixed_point_iteration(g, x_start, tol=1e-8, max_iter=100):\n",
    "    x_old = x_start\n",
    "    print(f\"Iteration 0: x = {x_old}\")\n",
    "    for i in range(1, max_iter+1):\n",
    "        x_new = g(x_old)\n",
    "        print(f\"Iteration {i}: x = {x_new:.10f}\")\n",
    "        if abs(x_new - x_old) < tol*abs(x_new):\n",
    "            print(f\"Converged after {i} iterations to {x_new:.10f}\\n\")\n",
    "            return x_new\n",
    "        x_old = x_new\n",
    "    print(\"Did not converge\\n\")\n",
    "    return None\n",
    "\n",
    "fixed_point = fixed_point_iteration(g, -1)\n",
    "print(f\"Fixed point found: {fixed_point:.10f}\")"
   ]
  },
  {
   "cell_type": "markdown",
   "metadata": {},
   "source": [
    "## **Question 2:**\n",
    "\n",
    "\n",
    "2. (3 points) Let $f(x) = x^2 - a$.\n",
    "\n",
    "    a. Show that the Newton-Raphson Method leads to the following recurrence  \n",
    "    $$x_{n+1} = \\frac{1}{2} \\left( x_n + \\frac{a}{x_n} \\right)$$\n",
    "\n",
    "    It is still at the heart of computer algorithms for finding square roots.\n",
    "\n",
    "    b. Take $a = 10$ and $x_0 = 3$, then show manual calculation to find $x_1$ and $x_2$ using Newton-Raphson's method.\n",
    "\n",
    "    c. Write a program to solve (b) till the absolute percent approximate error is less than $10^{-8}$ and print the result at what iteration it is attainable. The final answer is an approximation of $\\sqrt{10}$.\n",
    "\n"
   ]
  },
  {
   "cell_type": "markdown",
   "metadata": {},
   "source": [
    "### **Solution:**\n",
    "\n",
    "![Solution2](./images/assignment1/4.jpg)\n",
    "\n",
    "![Solution 2](./images/assignment1/5.jpg)"
   ]
  },
  {
   "cell_type": "code",
   "execution_count": 4,
   "metadata": {},
   "outputs": [
    {
     "name": "stdout",
     "output_type": "stream",
     "text": [
      "Iteration 0: x = 3\n",
      "Iteration 1: x = 3.166666666666667\n",
      "Iteration 2: x = 3.162280701754386\n",
      "Iteration 3: x = 3.162277660169842\n",
      "Iteration 4: x = 3.162277660168379\n",
      "Converged after 4 iterations to 3.162277660168379\n",
      "\n",
      "Approximate square root of 10: 3.162277660168379\n",
      "Exact square root of 10      : 3.1622776601683795\n"
     ]
    }
   ],
   "source": [
    "# Newton-Raphson method for square root\n",
    "def newton_raphson_sqrt(a, x_old, tol=1e-8, max_iter=1000):\n",
    "    print(f\"Iteration 0: x = {x_old}\")\n",
    "    for i in range(1, max_iter+1):\n",
    "        x_new = (1/2)*(x_old + a/x_old)\n",
    "        print(f\"Iteration {i}: x = {x_new}\")\n",
    "        if 100*abs(x_new-x_old)/abs(x_new) < tol:\n",
    "            print(f\"Converged after {i} iterations to {x_new}\\n\")\n",
    "            return x_new\n",
    "        x_old = x_new\n",
    "    print(\"Did not converge\\n\")\n",
    "    return None\n",
    "\n",
    "a = 10\n",
    "x0 = 3\n",
    "sqrt_approx = newton_raphson_sqrt(a, x0)\n",
    "print(f\"Approximate square root of {a}: {sqrt_approx}\")\n",
    "print(f\"Exact square root of {a}      : {np.sqrt(a)}\")"
   ]
  },
  {
   "cell_type": "markdown",
   "metadata": {},
   "source": [
    "## **Question 3:**\n",
    "\n",
    "3. (5 points) **Compute Doolittle’s factorization**\n",
    "\n",
    "    In Doolittle’s factorization, write $A = LU$, where $L$ is a lower triangular matrix with **diagonal entries as 1** and $U$ is an upper triangular matrix.\n",
    "\n",
    "    a. Determine the Doolittle’s factorization for matrix $A$ in the linear system $Ax = b$, where  \n",
    "\n",
    "    $$A = \n",
    "    \\begin{bmatrix}\n",
    "    1 & 1 & 0 & 3 \\\\\n",
    "    2 & 1 & -1 & 1 \\\\\n",
    "    3 & -1 & -1 & 2 \\\\\n",
    "    -1 & 2 & 3 & -1\n",
    "    \\end{bmatrix} \\quad \\text{and} \\quad b = \n",
    "    \\begin{bmatrix}\n",
    "    1 \\\\\n",
    "    1 \\\\\n",
    "    -3 \\\\\n",
    "    4\n",
    "    \\end{bmatrix}$$\n",
    "\n",
    "    b. Then use the factorization to solve the system manually  \n",
    "\n",
    "    $$x_1 + x_2 + 3x_4 = 1$$\n",
    "\n",
    "    $$2x_1 + x_2 - x_3 + x_4 = 1$$\n",
    "\n",
    "    $$3x_1 - x_2 - x_3 + 2x_4 = -3$$\n",
    "\n",
    "    $$-x_1 + 2x_2 + 3x_3 - x_4 = 4$$\n",
    "\n",
    "\n",
    "    c. Write a program for LU decomposition to solve the above system of equations. \n"
   ]
  },
  {
   "cell_type": "markdown",
   "metadata": {},
   "source": [
    "### **Solution:**\n",
    "\n",
    "![Solution 3](./images/assignment1/6.jpg)\n",
    "\n",
    "![Solution 3](./images/assignment1/7.jpg)\n",
    "\n",
    "![Solution 3](./images/assignment1/8.jpg)"
   ]
  },
  {
   "cell_type": "code",
   "execution_count": 5,
   "metadata": {},
   "outputs": [],
   "source": [
    "# LU Decomposition using Doolittle's method\n",
    "def doolittle_LU(A):\n",
    "    n = len(A)\n",
    "    L = np.identity(n)\n",
    "    U = np.zeros((n, n))\n",
    "    for i in range(n):\n",
    "        for j in range(i, n):\n",
    "            U[i][j] = A[i][j] - sum(L[i][k]*U[k][j] for k in range(i))\n",
    "        for j in range(i+1, n):\n",
    "            L[j][i] = (A[j][i] - sum(L[j][k]*U[k][i] for k in range(i))) / U[i][i]\n",
    "    return L, U\n",
    "\n",
    "# Forward Substitution\n",
    "def forward_substitution(L, b):\n",
    "    y = np.zeros_like(b, dtype=float)\n",
    "    for i in range(len(b)):\n",
    "        y[i] = b[i] - sum(L[i][j]*y[j] for j in range(i))\n",
    "    return y\n",
    "\n",
    "# Backward Substitution\n",
    "def backward_substitution(U, y):\n",
    "    n = len(y)\n",
    "    x = np.zeros_like(y, dtype=float)\n",
    "    for i in range(n-1, -1, -1):\n",
    "        x[i] = (y[i] - sum(U[i][j]*x[j] for j in range(i+1, n))) / U[i][i]\n",
    "    return x"
   ]
  },
  {
   "cell_type": "code",
   "execution_count": 6,
   "metadata": {},
   "outputs": [
    {
     "name": "stdout",
     "output_type": "stream",
     "text": [
      "\n",
      "Matrix A:\n",
      " [[ 1.  1.  0.  3.]\n",
      " [ 2.  1. -1.  1.]\n",
      " [ 3. -1. -1.  2.]\n",
      " [-1.  2.  3. -1.]]\n",
      "\n",
      "Vector b:\n",
      " [ 1.  1. -3.  4.]\n",
      "\n",
      "Lower triangular matrix L:\n",
      " [[ 1.  0.  0.  0.]\n",
      " [ 2.  1.  0.  0.]\n",
      " [ 3.  4.  1.  0.]\n",
      " [-1. -3.  0.  1.]]\n",
      "\n",
      "Upper triangular matrix U:\n",
      " [[  1.   1.   0.   3.]\n",
      " [  0.  -1.  -1.  -5.]\n",
      " [  0.   0.   3.  13.]\n",
      " [  0.   0.   0. -13.]]\n",
      "\n",
      "Intermediate vector y (Solution of Ly = b):\n",
      " [ 1. -1. -2.  2.]\n",
      "\n",
      "Solution vector x (Solution of Ax = b and Ux = y):\n",
      " [-0.30769231  1.76923077  0.         -0.15384615]\n"
     ]
    }
   ],
   "source": [
    "A = np.array([[1, 1,  0,  3],\n",
    "              [2, 1, -1,  1],\n",
    "              [3, -1, -1, 2],\n",
    "              [-1, 2, 3, -1]], dtype=float)\n",
    "\n",
    "b = np.array([1, 1, -3, 4], dtype=float)\n",
    "\n",
    "# LU Decomposition\n",
    "L, U = doolittle_LU(A)\n",
    "# Forward substitution to solve Ly = b\n",
    "y = forward_substitution(L, b)\n",
    "# Backward substitution to solve Ux = y\n",
    "x = backward_substitution(U, y)\n",
    "\n",
    "\n",
    "print(\"\\nMatrix A:\\n\", A)\n",
    "print(\"\\nVector b:\\n\", b)\n",
    "print(\"\\nLower triangular matrix L:\\n\", L)\n",
    "print(\"\\nUpper triangular matrix U:\\n\", U)\n",
    "print(\"\\nIntermediate vector y (Solution of Ly = b):\\n\", y)\n",
    "\n",
    "# Final solution vector x\n",
    "# (Solution of Ax = b and Ux = y)\n",
    "print(\"\\nSolution vector x (Solution of Ax = b and Ux = y):\\n\", x)"
   ]
  },
  {
   "cell_type": "code",
   "execution_count": 7,
   "metadata": {},
   "outputs": [
    {
     "name": "stdout",
     "output_type": "stream",
     "text": [
      "Exact solution of Ax = b:\n",
      " [-0.30769231  1.76923077 -0.         -0.15384615]\n"
     ]
    }
   ],
   "source": [
    "print(\"Exact solution of Ax = b:\\n\", np.round(np.linalg.solve(A, b), 8))"
   ]
  },
  {
   "cell_type": "markdown",
   "metadata": {},
   "source": [
    "## What I learned from this assignment:\n",
    "\n",
    "- The method of fixed-point iteration and how to apply it to find fixed points of functions.\n",
    "- How to apply the Newton-Raphson method to find square roots using iteration.\n",
    "- Wrote a Python program to implement the Doolittle's factorization method for solving linear systems of equations.\n",
    "- Gained a deeper understanding of matrix factorization techniques and their applications in numerical methods."
   ]
  },
  {
   "cell_type": "markdown",
   "metadata": {},
   "source": []
  }
 ],
 "metadata": {
  "kernelspec": {
   "display_name": ".venv",
   "language": "python",
   "name": "python3"
  },
  "language_info": {
   "codemirror_mode": {
    "name": "ipython",
    "version": 3
   },
   "file_extension": ".py",
   "mimetype": "text/x-python",
   "name": "python",
   "nbconvert_exporter": "python",
   "pygments_lexer": "ipython3",
   "version": "3.12.9"
  }
 },
 "nbformat": 4,
 "nbformat_minor": 2
}
