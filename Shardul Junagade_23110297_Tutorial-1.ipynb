{
 "cells": [
  {
   "cell_type": "markdown",
   "metadata": {},
   "source": [
    "<div style=\"text-align: center;\">\n",
    "\n",
    "# MA 203: Numerical Methods\n",
    "## Tutorial-1\n",
    "\n",
    "Shardul Junagade <br>\n",
    "23110297\n",
    "\n",
    "</div>\n",
    "\n"
   ]
  },
  {
   "cell_type": "markdown",
   "metadata": {},
   "source": [
    "## Practice Problems"
   ]
  },
  {
   "cell_type": "markdown",
   "metadata": {},
   "source": [
    "### 7.1 Fibonacci Sequence Generation\n",
    "\n",
    "The Fibonacci sequence is given by numbers 0, 1, 1, 2, 3, 5, 8, 13, ..., where each term is the sum of the two preceding ones. Mathematically, it is defined as:\n",
    "\n",
    "$$\n",
    "F(n) = \n",
    "\\begin{cases} \n",
    "0, & \\text{if } n = 1 \\\\\n",
    "1, & \\text{if } n = 2 \\\\\n",
    "F(n-1) + F(n-2), & \\text{if } n \\geq 3 \n",
    "\\end{cases}\n",
    "$$\n",
    "\n",
    "- Ask the user to input the number of Fibonacci terms N.\n",
    "- Using the given formula, generate the first N terms of Fibonacci sequence and display them."
   ]
  },
  {
   "cell_type": "code",
   "execution_count": 1,
   "metadata": {},
   "outputs": [
    {
     "name": "stdout",
     "output_type": "stream",
     "text": [
      "Number of Fibonacci terms:  8\n",
      "Fibonacci series:  0 1 1 2 3 5 8 13 "
     ]
    }
   ],
   "source": [
    "def fibonacci(n):\n",
    "\tif n == 0:\n",
    "\t\treturn 0\n",
    "\telif n == 1:\n",
    "\t\treturn 1\n",
    "\telse:\n",
    "\t\treturn fibonacci(n-1) + fibonacci(n-2)\n",
    "\t\n",
    "n = int(input(\"Enter the number of Fibonacci terms: \"))\n",
    "print(\"Number of Fibonacci terms: \", n)\n",
    "print(\"Fibonacci series: \", end=\" \")\n",
    "for i in range(n):\n",
    "\tprint(fibonacci(i), end=\" \")"
   ]
  },
  {
   "cell_type": "markdown",
   "metadata": {},
   "source": [
    "### 7.2 Finding Smallest Number\n",
    "\n",
    "Find the smallest number in a set using loops.\n",
    "\n",
    "- Declare the set of numbers from the user: $ a = [12, 5, 90, 3, 4, 6, -16, 25, 90, 50, 500, 235] $.\n",
    "- Use `for` and `while` loops to compare two numbers consecutively and find the smallest number in the set."
   ]
  },
  {
   "cell_type": "code",
   "execution_count": null,
   "metadata": {},
   "outputs": [
    {
     "name": "stdout",
     "output_type": "stream",
     "text": [
      "Input List: [12, 5, 90, 3, 4, 6, -16, 25, 90, 50, 500, 235]\n",
      "Minimum value in the list: -16\n"
     ]
    }
   ],
   "source": [
    "a = list(map(int, input().split()))\n",
    "# a = [12, 5, 90, 3, 4, 6, -16, 25, 90, 50, 500, 235]\n",
    "print(\"Input List:\", a)\n",
    "for i in range(len(a)):\n",
    "\tif i == 0:\n",
    "\t\tmin = a[i]\n",
    "\telif a[i] < min:\n",
    "\t\tmin = a[i]\n",
    "\n",
    "print(\"Minimum value in the list:\", min)"
   ]
  },
  {
   "cell_type": "markdown",
   "metadata": {},
   "source": [
    "### 7.3 Finding Factors\n",
    "\n",
    "For the given set of numbers, find all the factors of each number and tabulate.\n",
    "\n",
    "- **Step 1**: Declare the number set from the user-defined input $ a = [1, 3, 8, 6, 10, 5, \\ldots] $.\n",
    "- **Step 2**: Write a function to find all the factors of a given number.\n",
    "- **Step 3**: Use this function to get the factors for all the numbers in the set using a loop.\n",
    "- **Step 4**: Print the results."
   ]
  },
  {
   "cell_type": "code",
   "execution_count": null,
   "metadata": {},
   "outputs": [
    {
     "name": "stdout",
     "output_type": "stream",
     "text": [
      "Input List: [1, 3, 8, 6, 10, 5]\n",
      "Factors of 1 : [1]\n",
      "Factors of 3 : [1, 3]\n",
      "Factors of 8 : [1, 2, 4, 8]\n",
      "Factors of 6 : [1, 2, 3, 6]\n",
      "Factors of 10 : [1, 2, 5, 10]\n",
      "Factors of 5 : [1, 5]\n"
     ]
    }
   ],
   "source": [
    "def factors(n):\n",
    "\tif n == 0:\n",
    "\t\treturn \"No factors for zero\"\n",
    "\tf = []\n",
    "\tfor i in range(1, n+1):\n",
    "\t\tif n % i == 0:\n",
    "\t\t\tf.append(i)\n",
    "\treturn f\n",
    "\n",
    "a = list(map(int, input().split()))\n",
    "# a = [1, 3, 8, 6, 10, 5]\n",
    "print(\"Input List:\", a)\n",
    "for i in range(len(a)):\n",
    "\tprint(\"Factors of\", a[i], \":\", factors(a[i]))"
   ]
  }
 ],
 "metadata": {
  "kernelspec": {
   "display_name": ".venv (3.12.9)",
   "language": "python",
   "name": "python3"
  },
  "language_info": {
   "codemirror_mode": {
    "name": "ipython",
    "version": 3
   },
   "file_extension": ".py",
   "mimetype": "text/x-python",
   "name": "python",
   "nbconvert_exporter": "python",
   "pygments_lexer": "ipython3",
   "version": "3.12.9"
  }
 },
 "nbformat": 4,
 "nbformat_minor": 2
}
