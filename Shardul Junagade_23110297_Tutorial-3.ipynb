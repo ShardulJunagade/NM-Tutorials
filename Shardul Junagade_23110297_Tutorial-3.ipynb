{
 "cells": [
  {
   "cell_type": "markdown",
   "metadata": {},
   "source": [
    "<div style=\"text-align: center;\">\n",
    "\n",
    "# MA 203: Numerical Methods\n",
    "## Tutorial-3\n",
    "\n",
    "Shardul Junagade <br>\n",
    "23110297\n",
    "\n",
    "</div>"
   ]
  },
  {
   "cell_type": "markdown",
   "metadata": {},
   "source": [
    "---\n",
    "## **Question 1:**\n",
    "\n",
    "The Stefan-Boltzmann law can be employed to estimate the rate of radiation of energy $ H $ from a surface, as in \n",
    "\n",
    "$$ H = A e \\sigma T^{4} $$\n",
    "\n",
    "where:\n",
    "- $ H $ is in watts,\n",
    "- $ A $ = the surface area ($ m^{2} $),\n",
    "- $ e $ = the emissivity (dimensionless),\n",
    "- $ \\sigma $ = Stefan-Boltzmann constant ($ 5.67 \\times 10^{-8} \\, W m^{-2} K^{-4} $),\n",
    "- $ T $ = absolute temperature ($ K $).\n",
    "\n",
    "Determine the error of $ H $ for a steel plate with $ A = 0.15 \\, m^{2} $, $ e = 0.90 $ and $ T = 650 \\pm 20 \\, K $. Compare your results with the exact error. Repeat the computation but with $ T = 650 \\pm 40 $. Interpret your results."
   ]
  },
  {
   "cell_type": "markdown",
   "metadata": {},
   "source": [
    "### **Solution:**\n",
    "\n",
    "![Solution 1](./images/tutorial3/1.jpg)\n",
    "\n",
    "![Solution 1](./images/tutorial3/2.jpg)\n",
    "\n",
    "![Solution 1](./images/tutorial3/3.jpg)"
   ]
  },
  {
   "cell_type": "markdown",
   "metadata": {},
   "source": [
    "---\n",
    "## **Question 2:**\n",
    "\n",
    "Evaluate and interpret the condition numbers for:\n",
    "\n",
    "a. $ \\frac{\\sin x}{1 + \\cos x} $ for $ x = 1.0001\\pi $ \n",
    "\n",
    "b. $ f(x) = \\sqrt{x^2 + 1} - x $ for $ x = 300 $\n"
   ]
  },
  {
   "cell_type": "markdown",
   "metadata": {},
   "source": [
    "### **Solution:**\n",
    "\n",
    "![Solution 2](./images/tutorial3/4.jpg)\n",
    "\n",
    "![Solution 2](./images/tutorial3/5.jpg)"
   ]
  },
  {
   "cell_type": "markdown",
   "metadata": {},
   "source": [
    "---\n",
    "## **Question 3:**\n",
    "\n",
    "Real mechanical systems may involve the deflections of non-linear springs.  \n",
    "In Figure 1 below, a mass $ m $ is released a distance $ h $ above a non-linear spring. The resistance force $ F $ of the spring is given by  \n",
    "\n",
    "$$ F = -(k_1 d + k_2 d^{\\frac{3}{2}}) $$\n",
    "\n",
    "Conservation of energy can be used to show that  \n",
    "\n",
    "$$ 0 = \\frac{2k_2 d^{\\frac{5}{2}}}{5} + \\frac{1}{2} k_1 d^2 - mgd - mgh $$\n",
    "\n",
    "<div style=\"text-align: center; width: 80%; margin: 0 auto;\">\n",
    "\t<img src=\"./images/tutorial3/Figure1.png\" alt=\"Figure 1\">\n",
    "</div>\n",
    "\n",
    "Solve for $ d $ using the Bisection method, given the following parameter values: $ k_1 = 50,\\!000 \\, \\frac{g}{s^2} $, $ k_2 = 40 \\, \\frac{g}{s^2 m^{0.5}} $, $ m = 90 \\, g $, $ g = 9.81 \\, \\frac{m}{s^2} $, $ h = 0.45 \\, m $."
   ]
  },
  {
   "cell_type": "markdown",
   "metadata": {},
   "source": [
    "### **Solution:**\n",
    "\n",
    "The Bisection method is an iterative method that can be used to find the root of a function. The method requires an initial interval $ [a, b] $ such that $ f(a) \\cdot f(b) < 0 $. The method then iteratively halves the interval and selects the subinterval that contains the root. The process is repeated until the interval is sufficiently small.\n",
    "\n",
    "In this case, we are looking for the value of $ d $ that satisfies the equation:\n",
    "\n",
    "$$ 0 = \\frac{2k_2 d^{\\frac{5}{2}}}{5} + \\frac{1}{2} k_1 d^2 - mgd - mgh $$\n"
   ]
  },
  {
   "cell_type": "code",
   "execution_count": null,
   "metadata": {},
   "outputs": [],
   "source": [
    "# Equation\n",
    "def func(d, k1, k2, m, g, h):\n",
    "    return (2*k2*d**(5/2))/5 + (1/2)*k1*d**2 - m*g*d - m*g*h\n",
    "\n",
    "# Bisection method\n",
    "def bisection_method(func, x_lower, x_upper, tol, k1, k2, m, g, h):\t\t\n",
    "    x_mid = (x_lower+x_upper)/2\n",
    "    f_lower = func(x_lower, k1, k2, m, g, h)\n",
    "    f_upper = func(x_upper, k1, k2, m, g, h)\n",
    "    f_mid = func(x_mid, k1, k2, m, g, h)\n",
    "    n = 0\n",
    "    \n",
    "\t# Ensure the initial interval is valid\n",
    "    if f_lower*f_upper > 0:\n",
    "        raise ValueError(\"The function must have opposite signs at the interval bounds.\")\n",
    "    \n",
    "    while abs(f_mid) > tol:\n",
    "        if f_lower*f_mid < 0:\n",
    "            x_upper = x_mid\t\t# if the product of the function values at the lower and middle points is negative, the root is in the lower half of the interval\n",
    "        else:\n",
    "            x_lower = x_mid\t\t# if the product of the function values at the upper and middle points is negative, the root is in the upper half of the interval\n",
    "        \n",
    "        x_mid = (x_lower+x_upper)/2\n",
    "        f_lower = func(x_lower, k1, k2, m, g, h)\n",
    "        f_upper = func(x_upper, k1, k2, m, g, h)\n",
    "        f_mid = func(x_mid, k1, k2, m, g, h)\n",
    "        n += 1\n",
    "        \n",
    "    return x_mid, f_mid, n"
   ]
  },
  {
   "cell_type": "code",
   "execution_count": 9,
   "metadata": {},
   "outputs": [
    {
     "name": "stdout",
     "output_type": "stream",
     "text": [
      "The solution for d in the equation is: 0.14493285 m\n",
      "The number of iterations is: 29\n",
      "The final value of the function at the root is: 0.00000083563953\n"
     ]
    }
   ],
   "source": [
    "# Given parameters\n",
    "k1 = 50000  # (N/m)\n",
    "k2 = 40     # (N/m^(1.5))\n",
    "m = 90      # mass (kg)\n",
    "g = 9.81    # gravitational acceleration (m/s^2)\n",
    "h = 0.45    # initial height (m)\n",
    "tol = 1e-6  # tolerance for convergence\n",
    "\n",
    "a = 0  # lower bound for d (m)\n",
    "b = 1  # upper bound for d (m)\n",
    "\n",
    "d, f, n = bisection_method(func, a, b, tol, k1, k2, m, g, h)\n",
    "print(f\"The solution for d in the equation is: {d:.8f} m\")\n",
    "print(f\"The number of iterations is: {n}\")\n",
    "print(f\"The final value of the function at the root is: {f:.14f}\")"
   ]
  },
  {
   "cell_type": "markdown",
   "metadata": {},
   "source": [
    "The solution for $ d $ in the equation is approximately $ \\textbf{0.14493285} \\, m $. The number of iterations required for convergence is **29**, and the final value of the function at the root is approximately $ \\textbf{0.00000083563953} $."
   ]
  },
  {
   "cell_type": "markdown",
   "metadata": {},
   "source": [
    "---\n",
    "## **Question 4:**\n",
    "\n",
    "The ideal gas equation of state is valid only for a limited range of pressures and temperatures. An alternative equation of state for gases is the van der Waals equation:\n",
    "\n",
    "$$\n",
    "\\left( p + \\frac{a}{v^2} \\right) (v - b) = RT\n",
    "$$\n",
    "\n",
    "where $v$ is the molar volume, and $a$ and $b$ are the empirical constants for a gas. A chemical engineering design project requires you to accurately estimate the molar volume of ethyl alcohol ($a = 12.02 \\, \\text{L}^2 \\cdot \\text{atm} \\cdot \\text{mol}^{-2}$, $b = 0.08407 \\, \\text{L} \\cdot \\text{mol}^{-1}$) at a temperature of $T = 400 \\, \\text{K}$ and pressure of $p = 2.5 \\, \\text{atm}$. Use the false position method. Compare your results with the ideal gas law prediction $v_{\\text{ideal}} = \\frac{RT}{p}$.\n"
   ]
  },
  {
   "cell_type": "markdown",
   "metadata": {},
   "source": [
    "### **Solution:**\n",
    "\n",
    "The false position method is a numerical technique used to find the root of a function. It is an improved version of the bisection method, where instead of taking the midpoint, we use a weighted average to approximate the root more efficiently.\n",
    "\n",
    "The van der Waals equation can be defined as a function of the molar volume $v$:\n",
    "$$\n",
    "f(v) = ( p + \\frac{a}{v^2} ) (v - b) - RT = 0\n",
    "$$\n",
    "\n",
    "We need to find the molar volume $v$ that satisfies this equation. \n",
    "\n",
    "The false position method requires two initial guesses, $v_0$ and $v_1$, such that $f(v_0)$ and $f(v_1)$ have opposite signs. The next guess, $v_2$, is calculated as:\n",
    "$$\n",
    "v_2 = v_1 - f(v_1) \\frac{v_1 - v_0}{f(v_1) - f(v_0)}\n",
    "$$\n",
    "The process is repeated until the function value is within a specified tolerance. \n",
    "\n"
   ]
  },
  {
   "cell_type": "code",
   "execution_count": null,
   "metadata": {},
   "outputs": [
    {
     "name": "stdout",
     "output_type": "stream",
     "text": [
      "Iteration 1: x2 = 12.826233, f(x2) = -0.037593\n",
      "Iteration 2: x2 = 12.841651, f(x2) = -0.000159\n",
      "Iteration 3: x2 = 12.841716, f(x2) = -0.000001\n",
      "\n",
      "Volume according to Van der Waals equation = 12.841716 L/mol\n",
      "Volume according to ideal gas law = 13.129600 L/mol\n",
      "Difference = 0.287884 L/mol\n",
      "Percentage error = 2.19%\n",
      "Number of iterations: 3\n"
     ]
    }
   ],
   "source": [
    "# Vander Waals Equation\n",
    "def f(v, p, T, R, a, b):\n",
    "    return (p + (a / (v ** 2))) * (v - b) - (R * T)\n",
    "\n",
    "# False Position Method\n",
    "def false_position(f, x0, x1, tol=1e-6, max_iter=100):\n",
    "    if f(x0) * f(x1) >= 0:\n",
    "        print(\"Error: No root in the initial bracket. Try different values.\")\n",
    "        return None\n",
    "\n",
    "    for i in range(max_iter):\n",
    "        x2 = x1 - (f(x1) * (x1 - x0)) / (f(x1) - f(x0)) # formula\n",
    "        print(f\"Iteration {i+1}: x2 = {x2:.6f}, f(x2) = {f(x2):.6f}\")\n",
    "\n",
    "        if abs(f(x2)) < tol:\n",
    "            return x2, i+1\n",
    "\n",
    "        if f(x0)*f(x2) < 0:\n",
    "            x1 = x2\n",
    "        else:\n",
    "            x0 = x2\n",
    "\n",
    "    return x2, i+1\n",
    "\n",
    "\n",
    "# Constants\n",
    "R = 0.08206  \t# L.atm/(K.mol)\n",
    "a = 12.02  \t\t# L^2.atm/mol^2\n",
    "b = 0.08407 \t# L/mol\n",
    "T = 400  \t\t# K\n",
    "p = 2.5  \t\t# atm\n",
    "tol = 1e-6\t\t# Tolerance\n",
    "\n",
    "# Initial guesses\n",
    "x0 = 10\n",
    "x1 = 15\n",
    "\n",
    "vanderwaal_v, iterations = false_position(lambda v: f(v, p, T, R, a, b), x0, x1, tol)\n",
    "print(f\"\\nVolume according to Van der Waals equation = {vanderwaal_v:.6f} L/mol\")\n",
    "\n",
    "ideal_v = R*T / p\n",
    "print(f\"Volume according to ideal gas law = {ideal_v:.6f} L/mol\")\n",
    "\n",
    "print(f\"Difference = {abs(ideal_v - vanderwaal_v):.6f} L/mol\")\n",
    "print(f\"Percentage error = {(abs(ideal_v - vanderwaal_v) / ideal_v * 100):.2f}%\")\n",
    "print(\"Number of iterations:\", iterations)"
   ]
  },
  {
   "cell_type": "markdown",
   "metadata": {},
   "source": [
    "**Results:**\n",
    "\n",
    "- The molar volume of ethyl alcohol at $T = 400 \\, \\text{K}$ and $p = 2.5 \\, \\text{atm}$ is approximately $12.841716 \\, \\text{L/mol}$ using the van der Waals equation of state. \n",
    "- The ideal gas law prediction gives a molar volume of $13.129600 \\, \\text{L/mol}$. \n",
    "- The absolute difference is $0.287884 \\, \\text{L/mol}$, which is a percentage difference of $2.19\\%$. \n",
    "- The number of iterations required was $3$.\n"
   ]
  },
  {
   "cell_type": "markdown",
   "metadata": {},
   "source": []
  }
 ],
 "metadata": {
  "kernelspec": {
   "display_name": ".venv (3.12.9)",
   "language": "python",
   "name": "python3"
  },
  "language_info": {
   "codemirror_mode": {
    "name": "ipython",
    "version": 3
   },
   "file_extension": ".py",
   "mimetype": "text/x-python",
   "name": "python",
   "nbconvert_exporter": "python",
   "pygments_lexer": "ipython3",
   "version": "3.12.9"
  }
 },
 "nbformat": 4,
 "nbformat_minor": 2
}
